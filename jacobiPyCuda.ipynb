{
 "cells": [
  {
   "cell_type": "code",
   "execution_count": 1,
   "metadata": {},
   "outputs": [],
   "source": [
    "import pycuda.driver as cuda\n",
    "import pycuda.autoinit\n",
    "from pycuda.compiler import SourceModule\n",
    "import numpy as np\n",
    "import time"
   ]
  },
  {
   "cell_type": "code",
   "execution_count": 2,
   "metadata": {},
   "outputs": [],
   "source": [
    "# Define Kernel\n",
    "\n",
    "func = SourceModule(\"\"\"\n",
    "__global__\n",
    "void jacobiGPUBasic(float* x_new, float* A, float* x_current, float* b, const int Nx, const int Ny)\n",
    "{\n",
    "    float sum = 0.0;\n",
    "    int idx = threadIdx.x;\n",
    "    int j;\n",
    "    for(j = 0; j < Ny; j++)\n",
    "    {\n",
    "        if(idx != j)\n",
    "        {\n",
    "            sum += A[idx * Ny + j] * x_current[j];\n",
    "        }\n",
    "        x_new[idx] = (b[idx] - sum) / A[idx * Ny + idx];\n",
    "    }\n",
    "}\n",
    "  \"\"\").get_function(\"jacobiGPUBasic\")"
   ]
  },
  {
   "cell_type": "code",
   "execution_count": 3,
   "metadata": {},
   "outputs": [
    {
     "name": "stdout",
     "output_type": "stream",
     "text": [
      "Resolution :  10  ; Time (microseconds) :  10.53762435913086\n",
      "Resolution :  100  ; Time (microseconds) :  8.234739303588867\n",
      "Resolution :  1000  ; Time (microseconds) :  8.38160514831543\n",
      "Resolution :  2000  ; Time (microseconds) :  8.464336395263672\n",
      "Resolution :  3000  ; Time (microseconds) :  8.26716423034668\n",
      "[[1.]\n",
      " [1.]\n",
      " [1.]\n",
      " ...\n",
      " [1.]\n",
      " [1.]\n",
      " [1.]]\n"
     ]
    }
   ],
   "source": [
    "# Main body of the program\n",
    "\n",
    "resolutions = [10, 100, 1000, 2000, 3000]\n",
    "iterations = 1000\n",
    "\n",
    "for res in resolutions:\n",
    "\n",
    "    # Define data structures on CPU\n",
    "\n",
    "    A = np.identity(res).astype(np.float32)\n",
    "    x_current = np.ones((res,1)).astype(np.float32)\n",
    "    x_next = np.ones((res,1)).astype(np.float32)\n",
    "    b = np.ones_like(x_current).astype(np.float32)\n",
    "    resolution = np.array([res]).astype(np.float32)\n",
    "\n",
    "    # Allocate memory on GPU\n",
    "\n",
    "    A_gpu = cuda.mem_alloc(A.nbytes)\n",
    "    x_current_gpu = cuda.mem_alloc(x_current.nbytes)\n",
    "    x_next_gpu = cuda.mem_alloc(x_next.nbytes)\n",
    "    b_gpu = cuda.mem_alloc(b.nbytes)\n",
    "    resolution_gpu = cuda.mem_alloc(resolution.nbytes)\n",
    "\n",
    "    # Transfer data to GPU\n",
    "\n",
    "    cuda.memcpy_htod(A_gpu, A)\n",
    "    cuda.memcpy_htod(x_current_gpu, x_current)\n",
    "    cuda.memcpy_htod(x_next_gpu, x_next)\n",
    "    cuda.memcpy_htod(b_gpu, b)\n",
    "    cuda.memcpy_htod(resolution_gpu, resolution)\n",
    "\n",
    "    # Evaluate the kernel\n",
    "\n",
    "    start = time.time()\n",
    "    for i in range(iterations):\n",
    "        func(x_next_gpu,\n",
    "                A_gpu,\n",
    "                x_current_gpu,\n",
    "                b_gpu,\n",
    "                resolution_gpu,\n",
    "                resolution_gpu,\n",
    "                block = (16,1,1)\n",
    "            )\n",
    "    end = time.time()\n",
    "\n",
    "    print(\"Resolution : \", res, \" ; Time (microseconds) : \", ((end-start) / iterations) * 1e6)\n",
    "\n",
    "    A_gpu.free()\n",
    "    x_current_gpu.free()\n",
    "    x_next_gpu.free()\n",
    "    b_gpu.free()\n",
    "\n",
    "\n",
    "print(x_current)"
   ]
  }
 ],
 "metadata": {
  "interpreter": {
   "hash": "31f2aee4e71d21fbe5cf8b01ff0e069b9275f58929596ceb00d14d90e3e16cd6"
  },
  "kernelspec": {
   "display_name": "Python 3.6.9 64-bit",
   "language": "python",
   "name": "python3"
  },
  "language_info": {
   "codemirror_mode": {
    "name": "ipython",
    "version": 3
   },
   "file_extension": ".py",
   "mimetype": "text/x-python",
   "name": "python",
   "nbconvert_exporter": "python",
   "pygments_lexer": "ipython3",
   "version": "3.6.9"
  },
  "orig_nbformat": 4
 },
 "nbformat": 4,
 "nbformat_minor": 2
}
